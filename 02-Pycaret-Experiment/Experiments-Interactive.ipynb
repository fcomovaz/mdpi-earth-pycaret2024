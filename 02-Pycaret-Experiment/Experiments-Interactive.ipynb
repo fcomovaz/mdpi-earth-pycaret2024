{
 "cells": [
  {
   "cell_type": "markdown",
   "metadata": {},
   "source": [
    "## Load Dataset"
   ]
  },
  {
   "cell_type": "code",
   "execution_count": 13,
   "metadata": {},
   "outputs": [
    {
     "name": "stdout",
     "output_type": "stream",
     "text": [
      "(3646, 11)\n",
      "(2917, 11)\n",
      "(729, 11)\n"
     ]
    }
   ],
   "source": [
    "import pandas as pd  # type: ignore\n",
    "import os\n",
    "\n",
    "# Select Pollutant\n",
    "outputs = [\"O3\", \"SO2\", \"CO\", \"NO2\", \"PM2.5\", \"PM10\"]\n",
    "pollutant = outputs[5]\n",
    "\n",
    "# Load data\n",
    "time_windows = [\"hourly\", \"daily\"]\n",
    "tw = time_windows[1]\n",
    "data = pd.read_csv(f\"subsystems/{pollutant}-all-joined-{tw}.csv\")\n",
    "data = data.dropna()\n",
    "\n",
    "# if data-clean doesn't exist, create it\n",
    "if not os.path.exists(\"data-clean\"):\n",
    "    os.mkdir(\"data-clean\")\n",
    "data.to_csv(f\"data-clean/{pollutant}-clean-{tw}.csv\", index=False)\n",
    "\n",
    "# Split data into train and test\n",
    "train_set = data.sample(frac=0.8, random_state=1)\n",
    "test_set = data.drop(train_set.index)\n",
    "\n",
    "# save train and test\n",
    "if not os.path.exists(\"train-set\"):\n",
    "    os.mkdir(\"train-set\")\n",
    "if not os.path.exists(\"test-set\"):\n",
    "    os.mkdir(\"test-set\")\n",
    "train_set.to_csv(f\"train-set/{pollutant}-train.csv\", index=False)\n",
    "test_set.to_csv(f\"test-set/{pollutant}-test.csv\", index=False)\n",
    "\n",
    "print(data.shape)\n",
    "print(train_set.shape)\n",
    "print(test_set.shape)"
   ]
  },
  {
   "cell_type": "markdown",
   "metadata": {},
   "source": [
    "## Load Pycaret"
   ]
  },
  {
   "cell_type": "code",
   "execution_count": 14,
   "metadata": {},
   "outputs": [
    {
     "data": {
      "text/html": [
       "<style type=\"text/css\">\n",
       "#T_53722_row8_col1 {\n",
       "  background-color: lightgreen;\n",
       "}\n",
       "</style>\n",
       "<table id=\"T_53722\">\n",
       "  <thead>\n",
       "    <tr>\n",
       "      <th class=\"blank level0\" >&nbsp;</th>\n",
       "      <th id=\"T_53722_level0_col0\" class=\"col_heading level0 col0\" >Description</th>\n",
       "      <th id=\"T_53722_level0_col1\" class=\"col_heading level0 col1\" >Value</th>\n",
       "    </tr>\n",
       "  </thead>\n",
       "  <tbody>\n",
       "    <tr>\n",
       "      <th id=\"T_53722_level0_row0\" class=\"row_heading level0 row0\" >0</th>\n",
       "      <td id=\"T_53722_row0_col0\" class=\"data row0 col0\" >Session id</td>\n",
       "      <td id=\"T_53722_row0_col1\" class=\"data row0 col1\" >123</td>\n",
       "    </tr>\n",
       "    <tr>\n",
       "      <th id=\"T_53722_level0_row1\" class=\"row_heading level0 row1\" >1</th>\n",
       "      <td id=\"T_53722_row1_col0\" class=\"data row1 col0\" >Target</td>\n",
       "      <td id=\"T_53722_row1_col1\" class=\"data row1 col1\" >PM10</td>\n",
       "    </tr>\n",
       "    <tr>\n",
       "      <th id=\"T_53722_level0_row2\" class=\"row_heading level0 row2\" >2</th>\n",
       "      <td id=\"T_53722_row2_col0\" class=\"data row2 col0\" >Target type</td>\n",
       "      <td id=\"T_53722_row2_col1\" class=\"data row2 col1\" >Regression</td>\n",
       "    </tr>\n",
       "    <tr>\n",
       "      <th id=\"T_53722_level0_row3\" class=\"row_heading level0 row3\" >3</th>\n",
       "      <td id=\"T_53722_row3_col0\" class=\"data row3 col0\" >Original data shape</td>\n",
       "      <td id=\"T_53722_row3_col1\" class=\"data row3 col1\" >(3646, 11)</td>\n",
       "    </tr>\n",
       "    <tr>\n",
       "      <th id=\"T_53722_level0_row4\" class=\"row_heading level0 row4\" >4</th>\n",
       "      <td id=\"T_53722_row4_col0\" class=\"data row4 col0\" >Transformed data shape</td>\n",
       "      <td id=\"T_53722_row4_col1\" class=\"data row4 col1\" >(3646, 11)</td>\n",
       "    </tr>\n",
       "    <tr>\n",
       "      <th id=\"T_53722_level0_row5\" class=\"row_heading level0 row5\" >5</th>\n",
       "      <td id=\"T_53722_row5_col0\" class=\"data row5 col0\" >Transformed train set shape</td>\n",
       "      <td id=\"T_53722_row5_col1\" class=\"data row5 col1\" >(2917, 11)</td>\n",
       "    </tr>\n",
       "    <tr>\n",
       "      <th id=\"T_53722_level0_row6\" class=\"row_heading level0 row6\" >6</th>\n",
       "      <td id=\"T_53722_row6_col0\" class=\"data row6 col0\" >Transformed test set shape</td>\n",
       "      <td id=\"T_53722_row6_col1\" class=\"data row6 col1\" >(729, 11)</td>\n",
       "    </tr>\n",
       "    <tr>\n",
       "      <th id=\"T_53722_level0_row7\" class=\"row_heading level0 row7\" >7</th>\n",
       "      <td id=\"T_53722_row7_col0\" class=\"data row7 col0\" >Numeric features</td>\n",
       "      <td id=\"T_53722_row7_col1\" class=\"data row7 col1\" >10</td>\n",
       "    </tr>\n",
       "    <tr>\n",
       "      <th id=\"T_53722_level0_row8\" class=\"row_heading level0 row8\" >8</th>\n",
       "      <td id=\"T_53722_row8_col0\" class=\"data row8 col0\" >Preprocess</td>\n",
       "      <td id=\"T_53722_row8_col1\" class=\"data row8 col1\" >True</td>\n",
       "    </tr>\n",
       "    <tr>\n",
       "      <th id=\"T_53722_level0_row9\" class=\"row_heading level0 row9\" >9</th>\n",
       "      <td id=\"T_53722_row9_col0\" class=\"data row9 col0\" >Imputation type</td>\n",
       "      <td id=\"T_53722_row9_col1\" class=\"data row9 col1\" >simple</td>\n",
       "    </tr>\n",
       "    <tr>\n",
       "      <th id=\"T_53722_level0_row10\" class=\"row_heading level0 row10\" >10</th>\n",
       "      <td id=\"T_53722_row10_col0\" class=\"data row10 col0\" >Numeric imputation</td>\n",
       "      <td id=\"T_53722_row10_col1\" class=\"data row10 col1\" >mean</td>\n",
       "    </tr>\n",
       "    <tr>\n",
       "      <th id=\"T_53722_level0_row11\" class=\"row_heading level0 row11\" >11</th>\n",
       "      <td id=\"T_53722_row11_col0\" class=\"data row11 col0\" >Categorical imputation</td>\n",
       "      <td id=\"T_53722_row11_col1\" class=\"data row11 col1\" >mode</td>\n",
       "    </tr>\n",
       "    <tr>\n",
       "      <th id=\"T_53722_level0_row12\" class=\"row_heading level0 row12\" >12</th>\n",
       "      <td id=\"T_53722_row12_col0\" class=\"data row12 col0\" >Fold Generator</td>\n",
       "      <td id=\"T_53722_row12_col1\" class=\"data row12 col1\" >KFold</td>\n",
       "    </tr>\n",
       "    <tr>\n",
       "      <th id=\"T_53722_level0_row13\" class=\"row_heading level0 row13\" >13</th>\n",
       "      <td id=\"T_53722_row13_col0\" class=\"data row13 col0\" >Fold Number</td>\n",
       "      <td id=\"T_53722_row13_col1\" class=\"data row13 col1\" >10</td>\n",
       "    </tr>\n",
       "    <tr>\n",
       "      <th id=\"T_53722_level0_row14\" class=\"row_heading level0 row14\" >14</th>\n",
       "      <td id=\"T_53722_row14_col0\" class=\"data row14 col0\" >CPU Jobs</td>\n",
       "      <td id=\"T_53722_row14_col1\" class=\"data row14 col1\" >-1</td>\n",
       "    </tr>\n",
       "    <tr>\n",
       "      <th id=\"T_53722_level0_row15\" class=\"row_heading level0 row15\" >15</th>\n",
       "      <td id=\"T_53722_row15_col0\" class=\"data row15 col0\" >Use GPU</td>\n",
       "      <td id=\"T_53722_row15_col1\" class=\"data row15 col1\" >False</td>\n",
       "    </tr>\n",
       "    <tr>\n",
       "      <th id=\"T_53722_level0_row16\" class=\"row_heading level0 row16\" >16</th>\n",
       "      <td id=\"T_53722_row16_col0\" class=\"data row16 col0\" >Log Experiment</td>\n",
       "      <td id=\"T_53722_row16_col1\" class=\"data row16 col1\" >False</td>\n",
       "    </tr>\n",
       "    <tr>\n",
       "      <th id=\"T_53722_level0_row17\" class=\"row_heading level0 row17\" >17</th>\n",
       "      <td id=\"T_53722_row17_col0\" class=\"data row17 col0\" >Experiment Name</td>\n",
       "      <td id=\"T_53722_row17_col1\" class=\"data row17 col1\" >reg-default-name</td>\n",
       "    </tr>\n",
       "    <tr>\n",
       "      <th id=\"T_53722_level0_row18\" class=\"row_heading level0 row18\" >18</th>\n",
       "      <td id=\"T_53722_row18_col0\" class=\"data row18 col0\" >USI</td>\n",
       "      <td id=\"T_53722_row18_col1\" class=\"data row18 col1\" >1a64</td>\n",
       "    </tr>\n",
       "  </tbody>\n",
       "</table>\n"
      ],
      "text/plain": [
       "<pandas.io.formats.style.Styler at 0x2535ac06500>"
      ]
     },
     "metadata": {},
     "output_type": "display_data"
    }
   ],
   "source": [
    "from pycaret.regression import setup # type: ignore\n",
    "s = setup(train_set, target = pollutant, session_id = 123, test_data=test_set)"
   ]
  },
  {
   "cell_type": "markdown",
   "metadata": {},
   "source": [
    "## Save Experiment Configurations"
   ]
  },
  {
   "cell_type": "code",
   "execution_count": 15,
   "metadata": {},
   "outputs": [],
   "source": [
    "df = s.pull()\n",
    "if not os.path.exists(\"configs\"):\n",
    "    os.mkdir(\"configs\")\n",
    "df.to_csv(f\"configs/{pollutant}-setup.csv\", index=False)"
   ]
  },
  {
   "cell_type": "markdown",
   "metadata": {},
   "source": [
    "## Compare Models"
   ]
  },
  {
   "cell_type": "code",
   "execution_count": 16,
   "metadata": {},
   "outputs": [
    {
     "data": {
      "text/html": [],
      "text/plain": [
       "<IPython.core.display.HTML object>"
      ]
     },
     "metadata": {},
     "output_type": "display_data"
    },
    {
     "data": {
      "text/html": [
       "<style type=\"text/css\">\n",
       "#T_d131a th {\n",
       "  text-align: left;\n",
       "}\n",
       "#T_d131a_row0_col0, #T_d131a_row1_col0, #T_d131a_row1_col1, #T_d131a_row1_col2, #T_d131a_row1_col3, #T_d131a_row1_col4, #T_d131a_row1_col5, #T_d131a_row1_col6, #T_d131a_row2_col0, #T_d131a_row2_col1, #T_d131a_row2_col2, #T_d131a_row2_col3, #T_d131a_row2_col4, #T_d131a_row2_col5, #T_d131a_row2_col6, #T_d131a_row3_col0, #T_d131a_row3_col1, #T_d131a_row3_col2, #T_d131a_row3_col3, #T_d131a_row3_col4, #T_d131a_row3_col5, #T_d131a_row3_col6, #T_d131a_row4_col0, #T_d131a_row4_col1, #T_d131a_row4_col2, #T_d131a_row4_col3, #T_d131a_row4_col4, #T_d131a_row4_col5, #T_d131a_row4_col6, #T_d131a_row5_col0, #T_d131a_row5_col1, #T_d131a_row5_col2, #T_d131a_row5_col3, #T_d131a_row5_col4, #T_d131a_row5_col5, #T_d131a_row5_col6, #T_d131a_row6_col0, #T_d131a_row6_col1, #T_d131a_row6_col2, #T_d131a_row6_col3, #T_d131a_row6_col4, #T_d131a_row6_col5, #T_d131a_row6_col6, #T_d131a_row7_col0, #T_d131a_row7_col1, #T_d131a_row7_col2, #T_d131a_row7_col3, #T_d131a_row7_col4, #T_d131a_row7_col5, #T_d131a_row7_col6, #T_d131a_row8_col0, #T_d131a_row8_col1, #T_d131a_row8_col2, #T_d131a_row8_col3, #T_d131a_row8_col4, #T_d131a_row8_col5, #T_d131a_row8_col6, #T_d131a_row9_col0, #T_d131a_row9_col1, #T_d131a_row9_col2, #T_d131a_row9_col3, #T_d131a_row9_col4, #T_d131a_row9_col5, #T_d131a_row9_col6, #T_d131a_row10_col0, #T_d131a_row10_col1, #T_d131a_row10_col2, #T_d131a_row10_col3, #T_d131a_row10_col4, #T_d131a_row10_col5, #T_d131a_row10_col6, #T_d131a_row11_col0, #T_d131a_row11_col1, #T_d131a_row11_col2, #T_d131a_row11_col3, #T_d131a_row11_col4, #T_d131a_row11_col5, #T_d131a_row11_col6, #T_d131a_row12_col0, #T_d131a_row12_col1, #T_d131a_row12_col2, #T_d131a_row12_col3, #T_d131a_row12_col4, #T_d131a_row12_col5, #T_d131a_row12_col6, #T_d131a_row13_col0, #T_d131a_row13_col1, #T_d131a_row13_col2, #T_d131a_row13_col3, #T_d131a_row13_col4, #T_d131a_row13_col5, #T_d131a_row13_col6, #T_d131a_row14_col0, #T_d131a_row14_col1, #T_d131a_row14_col2, #T_d131a_row14_col3, #T_d131a_row14_col4, #T_d131a_row14_col5, #T_d131a_row14_col6, #T_d131a_row15_col0, #T_d131a_row15_col1, #T_d131a_row15_col2, #T_d131a_row15_col3, #T_d131a_row15_col4, #T_d131a_row15_col5, #T_d131a_row15_col6, #T_d131a_row16_col0, #T_d131a_row16_col1, #T_d131a_row16_col2, #T_d131a_row16_col3, #T_d131a_row16_col4, #T_d131a_row16_col5, #T_d131a_row16_col6, #T_d131a_row17_col0, #T_d131a_row17_col1, #T_d131a_row17_col2, #T_d131a_row17_col3, #T_d131a_row17_col4, #T_d131a_row17_col5, #T_d131a_row17_col6, #T_d131a_row18_col0, #T_d131a_row18_col1, #T_d131a_row18_col2, #T_d131a_row18_col3, #T_d131a_row18_col4, #T_d131a_row18_col5, #T_d131a_row18_col6, #T_d131a_row19_col0, #T_d131a_row19_col1, #T_d131a_row19_col2, #T_d131a_row19_col3, #T_d131a_row19_col4, #T_d131a_row19_col5, #T_d131a_row19_col6 {\n",
       "  text-align: left;\n",
       "}\n",
       "#T_d131a_row0_col1, #T_d131a_row0_col2, #T_d131a_row0_col3, #T_d131a_row0_col4, #T_d131a_row0_col5, #T_d131a_row0_col6 {\n",
       "  text-align: left;\n",
       "  background-color: yellow;\n",
       "}\n",
       "#T_d131a_row0_col7, #T_d131a_row1_col7, #T_d131a_row2_col7, #T_d131a_row3_col7, #T_d131a_row4_col7, #T_d131a_row5_col7, #T_d131a_row6_col7, #T_d131a_row8_col7, #T_d131a_row10_col7, #T_d131a_row11_col7, #T_d131a_row12_col7, #T_d131a_row13_col7, #T_d131a_row14_col7, #T_d131a_row15_col7, #T_d131a_row16_col7, #T_d131a_row17_col7, #T_d131a_row18_col7, #T_d131a_row19_col7 {\n",
       "  text-align: left;\n",
       "  background-color: lightgrey;\n",
       "}\n",
       "#T_d131a_row7_col7, #T_d131a_row9_col7 {\n",
       "  text-align: left;\n",
       "  background-color: yellow;\n",
       "  background-color: lightgrey;\n",
       "}\n",
       "</style>\n",
       "<table id=\"T_d131a\">\n",
       "  <thead>\n",
       "    <tr>\n",
       "      <th class=\"blank level0\" >&nbsp;</th>\n",
       "      <th id=\"T_d131a_level0_col0\" class=\"col_heading level0 col0\" >Model</th>\n",
       "      <th id=\"T_d131a_level0_col1\" class=\"col_heading level0 col1\" >MAE</th>\n",
       "      <th id=\"T_d131a_level0_col2\" class=\"col_heading level0 col2\" >MSE</th>\n",
       "      <th id=\"T_d131a_level0_col3\" class=\"col_heading level0 col3\" >RMSE</th>\n",
       "      <th id=\"T_d131a_level0_col4\" class=\"col_heading level0 col4\" >R2</th>\n",
       "      <th id=\"T_d131a_level0_col5\" class=\"col_heading level0 col5\" >RMSLE</th>\n",
       "      <th id=\"T_d131a_level0_col6\" class=\"col_heading level0 col6\" >MAPE</th>\n",
       "      <th id=\"T_d131a_level0_col7\" class=\"col_heading level0 col7\" >TT (Sec)</th>\n",
       "    </tr>\n",
       "  </thead>\n",
       "  <tbody>\n",
       "    <tr>\n",
       "      <th id=\"T_d131a_level0_row0\" class=\"row_heading level0 row0\" >catboost</th>\n",
       "      <td id=\"T_d131a_row0_col0\" class=\"data row0 col0\" >CatBoost Regressor</td>\n",
       "      <td id=\"T_d131a_row0_col1\" class=\"data row0 col1\" >6.2272</td>\n",
       "      <td id=\"T_d131a_row0_col2\" class=\"data row0 col2\" >81.6088</td>\n",
       "      <td id=\"T_d131a_row0_col3\" class=\"data row0 col3\" >8.9749</td>\n",
       "      <td id=\"T_d131a_row0_col4\" class=\"data row0 col4\" >0.8229</td>\n",
       "      <td id=\"T_d131a_row0_col5\" class=\"data row0 col5\" >0.2090</td>\n",
       "      <td id=\"T_d131a_row0_col6\" class=\"data row0 col6\" >0.1833</td>\n",
       "      <td id=\"T_d131a_row0_col7\" class=\"data row0 col7\" >1.8590</td>\n",
       "    </tr>\n",
       "    <tr>\n",
       "      <th id=\"T_d131a_level0_row1\" class=\"row_heading level0 row1\" >et</th>\n",
       "      <td id=\"T_d131a_row1_col0\" class=\"data row1 col0\" >Extra Trees Regressor</td>\n",
       "      <td id=\"T_d131a_row1_col1\" class=\"data row1 col1\" >6.5966</td>\n",
       "      <td id=\"T_d131a_row1_col2\" class=\"data row1 col2\" >90.3385</td>\n",
       "      <td id=\"T_d131a_row1_col3\" class=\"data row1 col3\" >9.4459</td>\n",
       "      <td id=\"T_d131a_row1_col4\" class=\"data row1 col4\" >0.8035</td>\n",
       "      <td id=\"T_d131a_row1_col5\" class=\"data row1 col5\" >0.2186</td>\n",
       "      <td id=\"T_d131a_row1_col6\" class=\"data row1 col6\" >0.1920</td>\n",
       "      <td id=\"T_d131a_row1_col7\" class=\"data row1 col7\" >0.3100</td>\n",
       "    </tr>\n",
       "    <tr>\n",
       "      <th id=\"T_d131a_level0_row2\" class=\"row_heading level0 row2\" >lightgbm</th>\n",
       "      <td id=\"T_d131a_row2_col0\" class=\"data row2 col0\" >Light Gradient Boosting Machine</td>\n",
       "      <td id=\"T_d131a_row2_col1\" class=\"data row2 col1\" >6.6139</td>\n",
       "      <td id=\"T_d131a_row2_col2\" class=\"data row2 col2\" >91.6745</td>\n",
       "      <td id=\"T_d131a_row2_col3\" class=\"data row2 col3\" >9.4998</td>\n",
       "      <td id=\"T_d131a_row2_col4\" class=\"data row2 col4\" >0.8010</td>\n",
       "      <td id=\"T_d131a_row2_col5\" class=\"data row2 col5\" >0.2177</td>\n",
       "      <td id=\"T_d131a_row2_col6\" class=\"data row2 col6\" >0.1934</td>\n",
       "      <td id=\"T_d131a_row2_col7\" class=\"data row2 col7\" >0.1560</td>\n",
       "    </tr>\n",
       "    <tr>\n",
       "      <th id=\"T_d131a_level0_row3\" class=\"row_heading level0 row3\" >xgboost</th>\n",
       "      <td id=\"T_d131a_row3_col0\" class=\"data row3 col0\" >Extreme Gradient Boosting</td>\n",
       "      <td id=\"T_d131a_row3_col1\" class=\"data row3 col1\" >6.9224</td>\n",
       "      <td id=\"T_d131a_row3_col2\" class=\"data row3 col2\" >97.3217</td>\n",
       "      <td id=\"T_d131a_row3_col3\" class=\"data row3 col3\" >9.8014</td>\n",
       "      <td id=\"T_d131a_row3_col4\" class=\"data row3 col4\" >0.7883</td>\n",
       "      <td id=\"T_d131a_row3_col5\" class=\"data row3 col5\" >0.2261</td>\n",
       "      <td id=\"T_d131a_row3_col6\" class=\"data row3 col6\" >0.2010</td>\n",
       "      <td id=\"T_d131a_row3_col7\" class=\"data row3 col7\" >0.1030</td>\n",
       "    </tr>\n",
       "    <tr>\n",
       "      <th id=\"T_d131a_level0_row4\" class=\"row_heading level0 row4\" >rf</th>\n",
       "      <td id=\"T_d131a_row4_col0\" class=\"data row4 col0\" >Random Forest Regressor</td>\n",
       "      <td id=\"T_d131a_row4_col1\" class=\"data row4 col1\" >7.0715</td>\n",
       "      <td id=\"T_d131a_row4_col2\" class=\"data row4 col2\" >99.5406</td>\n",
       "      <td id=\"T_d131a_row4_col3\" class=\"data row4 col3\" >9.9133</td>\n",
       "      <td id=\"T_d131a_row4_col4\" class=\"data row4 col4\" >0.7837</td>\n",
       "      <td id=\"T_d131a_row4_col5\" class=\"data row4 col5\" >0.2295</td>\n",
       "      <td id=\"T_d131a_row4_col6\" class=\"data row4 col6\" >0.2047</td>\n",
       "      <td id=\"T_d131a_row4_col7\" class=\"data row4 col7\" >0.6250</td>\n",
       "    </tr>\n",
       "    <tr>\n",
       "      <th id=\"T_d131a_level0_row5\" class=\"row_heading level0 row5\" >gbr</th>\n",
       "      <td id=\"T_d131a_row5_col0\" class=\"data row5 col0\" >Gradient Boosting Regressor</td>\n",
       "      <td id=\"T_d131a_row5_col1\" class=\"data row5 col1\" >7.4551</td>\n",
       "      <td id=\"T_d131a_row5_col2\" class=\"data row5 col2\" >105.5852</td>\n",
       "      <td id=\"T_d131a_row5_col3\" class=\"data row5 col3\" >10.2068</td>\n",
       "      <td id=\"T_d131a_row5_col4\" class=\"data row5 col4\" >0.7704</td>\n",
       "      <td id=\"T_d131a_row5_col5\" class=\"data row5 col5\" >0.2405</td>\n",
       "      <td id=\"T_d131a_row5_col6\" class=\"data row5 col6\" >0.2180</td>\n",
       "      <td id=\"T_d131a_row5_col7\" class=\"data row5 col7\" >0.2920</td>\n",
       "    </tr>\n",
       "    <tr>\n",
       "      <th id=\"T_d131a_level0_row6\" class=\"row_heading level0 row6\" >lr</th>\n",
       "      <td id=\"T_d131a_row6_col0\" class=\"data row6 col0\" >Linear Regression</td>\n",
       "      <td id=\"T_d131a_row6_col1\" class=\"data row6 col1\" >8.6149</td>\n",
       "      <td id=\"T_d131a_row6_col2\" class=\"data row6 col2\" >132.2372</td>\n",
       "      <td id=\"T_d131a_row6_col3\" class=\"data row6 col3\" >11.4521</td>\n",
       "      <td id=\"T_d131a_row6_col4\" class=\"data row6 col4\" >0.7107</td>\n",
       "      <td id=\"T_d131a_row6_col5\" class=\"data row6 col5\" >0.2736</td>\n",
       "      <td id=\"T_d131a_row6_col6\" class=\"data row6 col6\" >0.2428</td>\n",
       "      <td id=\"T_d131a_row6_col7\" class=\"data row6 col7\" >0.0160</td>\n",
       "    </tr>\n",
       "    <tr>\n",
       "      <th id=\"T_d131a_level0_row7\" class=\"row_heading level0 row7\" >ridge</th>\n",
       "      <td id=\"T_d131a_row7_col0\" class=\"data row7 col0\" >Ridge Regression</td>\n",
       "      <td id=\"T_d131a_row7_col1\" class=\"data row7 col1\" >8.6150</td>\n",
       "      <td id=\"T_d131a_row7_col2\" class=\"data row7 col2\" >132.2368</td>\n",
       "      <td id=\"T_d131a_row7_col3\" class=\"data row7 col3\" >11.4521</td>\n",
       "      <td id=\"T_d131a_row7_col4\" class=\"data row7 col4\" >0.7107</td>\n",
       "      <td id=\"T_d131a_row7_col5\" class=\"data row7 col5\" >0.2736</td>\n",
       "      <td id=\"T_d131a_row7_col6\" class=\"data row7 col6\" >0.2428</td>\n",
       "      <td id=\"T_d131a_row7_col7\" class=\"data row7 col7\" >0.0140</td>\n",
       "    </tr>\n",
       "    <tr>\n",
       "      <th id=\"T_d131a_level0_row8\" class=\"row_heading level0 row8\" >br</th>\n",
       "      <td id=\"T_d131a_row8_col0\" class=\"data row8 col0\" >Bayesian Ridge</td>\n",
       "      <td id=\"T_d131a_row8_col1\" class=\"data row8 col1\" >8.6186</td>\n",
       "      <td id=\"T_d131a_row8_col2\" class=\"data row8 col2\" >132.2704</td>\n",
       "      <td id=\"T_d131a_row8_col3\" class=\"data row8 col3\" >11.4538</td>\n",
       "      <td id=\"T_d131a_row8_col4\" class=\"data row8 col4\" >0.7106</td>\n",
       "      <td id=\"T_d131a_row8_col5\" class=\"data row8 col5\" >0.2734</td>\n",
       "      <td id=\"T_d131a_row8_col6\" class=\"data row8 col6\" >0.2426</td>\n",
       "      <td id=\"T_d131a_row8_col7\" class=\"data row8 col7\" >0.0300</td>\n",
       "    </tr>\n",
       "    <tr>\n",
       "      <th id=\"T_d131a_level0_row9\" class=\"row_heading level0 row9\" >lar</th>\n",
       "      <td id=\"T_d131a_row9_col0\" class=\"data row9 col0\" >Least Angle Regression</td>\n",
       "      <td id=\"T_d131a_row9_col1\" class=\"data row9 col1\" >8.6949</td>\n",
       "      <td id=\"T_d131a_row9_col2\" class=\"data row9 col2\" >133.4039</td>\n",
       "      <td id=\"T_d131a_row9_col3\" class=\"data row9 col3\" >11.5062</td>\n",
       "      <td id=\"T_d131a_row9_col4\" class=\"data row9 col4\" >0.7080</td>\n",
       "      <td id=\"T_d131a_row9_col5\" class=\"data row9 col5\" >0.2769</td>\n",
       "      <td id=\"T_d131a_row9_col6\" class=\"data row9 col6\" >0.2448</td>\n",
       "      <td id=\"T_d131a_row9_col7\" class=\"data row9 col7\" >0.0140</td>\n",
       "    </tr>\n",
       "    <tr>\n",
       "      <th id=\"T_d131a_level0_row10\" class=\"row_heading level0 row10\" >en</th>\n",
       "      <td id=\"T_d131a_row10_col0\" class=\"data row10 col0\" >Elastic Net</td>\n",
       "      <td id=\"T_d131a_row10_col1\" class=\"data row10 col1\" >8.7134</td>\n",
       "      <td id=\"T_d131a_row10_col2\" class=\"data row10 col2\" >134.3033</td>\n",
       "      <td id=\"T_d131a_row10_col3\" class=\"data row10 col3\" >11.5429</td>\n",
       "      <td id=\"T_d131a_row10_col4\" class=\"data row10 col4\" >0.7063</td>\n",
       "      <td id=\"T_d131a_row10_col5\" class=\"data row10 col5\" >0.2734</td>\n",
       "      <td id=\"T_d131a_row10_col6\" class=\"data row10 col6\" >0.2444</td>\n",
       "      <td id=\"T_d131a_row10_col7\" class=\"data row10 col7\" >0.0170</td>\n",
       "    </tr>\n",
       "    <tr>\n",
       "      <th id=\"T_d131a_level0_row11\" class=\"row_heading level0 row11\" >llar</th>\n",
       "      <td id=\"T_d131a_row11_col0\" class=\"data row11 col0\" >Lasso Least Angle Regression</td>\n",
       "      <td id=\"T_d131a_row11_col1\" class=\"data row11 col1\" >8.7372</td>\n",
       "      <td id=\"T_d131a_row11_col2\" class=\"data row11 col2\" >134.8289</td>\n",
       "      <td id=\"T_d131a_row11_col3\" class=\"data row11 col3\" >11.5661</td>\n",
       "      <td id=\"T_d131a_row11_col4\" class=\"data row11 col4\" >0.7051</td>\n",
       "      <td id=\"T_d131a_row11_col5\" class=\"data row11 col5\" >0.2738</td>\n",
       "      <td id=\"T_d131a_row11_col6\" class=\"data row11 col6\" >0.2450</td>\n",
       "      <td id=\"T_d131a_row11_col7\" class=\"data row11 col7\" >0.0170</td>\n",
       "    </tr>\n",
       "    <tr>\n",
       "      <th id=\"T_d131a_level0_row12\" class=\"row_heading level0 row12\" >lasso</th>\n",
       "      <td id=\"T_d131a_row12_col0\" class=\"data row12 col0\" >Lasso Regression</td>\n",
       "      <td id=\"T_d131a_row12_col1\" class=\"data row12 col1\" >8.7372</td>\n",
       "      <td id=\"T_d131a_row12_col2\" class=\"data row12 col2\" >134.8287</td>\n",
       "      <td id=\"T_d131a_row12_col3\" class=\"data row12 col3\" >11.5661</td>\n",
       "      <td id=\"T_d131a_row12_col4\" class=\"data row12 col4\" >0.7051</td>\n",
       "      <td id=\"T_d131a_row12_col5\" class=\"data row12 col5\" >0.2738</td>\n",
       "      <td id=\"T_d131a_row12_col6\" class=\"data row12 col6\" >0.2450</td>\n",
       "      <td id=\"T_d131a_row12_col7\" class=\"data row12 col7\" >0.0190</td>\n",
       "    </tr>\n",
       "    <tr>\n",
       "      <th id=\"T_d131a_level0_row13\" class=\"row_heading level0 row13\" >huber</th>\n",
       "      <td id=\"T_d131a_row13_col0\" class=\"data row13 col0\" >Huber Regressor</td>\n",
       "      <td id=\"T_d131a_row13_col1\" class=\"data row13 col1\" >8.7936</td>\n",
       "      <td id=\"T_d131a_row13_col2\" class=\"data row13 col2\" >142.6056</td>\n",
       "      <td id=\"T_d131a_row13_col3\" class=\"data row13 col3\" >11.8885</td>\n",
       "      <td id=\"T_d131a_row13_col4\" class=\"data row13 col4\" >0.6886</td>\n",
       "      <td id=\"T_d131a_row13_col5\" class=\"data row13 col5\" >0.2784</td>\n",
       "      <td id=\"T_d131a_row13_col6\" class=\"data row13 col6\" >0.2395</td>\n",
       "      <td id=\"T_d131a_row13_col7\" class=\"data row13 col7\" >0.0410</td>\n",
       "    </tr>\n",
       "    <tr>\n",
       "      <th id=\"T_d131a_level0_row14\" class=\"row_heading level0 row14\" >knn</th>\n",
       "      <td id=\"T_d131a_row14_col0\" class=\"data row14 col0\" >K Neighbors Regressor</td>\n",
       "      <td id=\"T_d131a_row14_col1\" class=\"data row14 col1\" >9.0100</td>\n",
       "      <td id=\"T_d131a_row14_col2\" class=\"data row14 col2\" >155.2510</td>\n",
       "      <td id=\"T_d131a_row14_col3\" class=\"data row14 col3\" >12.4128</td>\n",
       "      <td id=\"T_d131a_row14_col4\" class=\"data row14 col4\" >0.6613</td>\n",
       "      <td id=\"T_d131a_row14_col5\" class=\"data row14 col5\" >0.2815</td>\n",
       "      <td id=\"T_d131a_row14_col6\" class=\"data row14 col6\" >0.2488</td>\n",
       "      <td id=\"T_d131a_row14_col7\" class=\"data row14 col7\" >0.0200</td>\n",
       "    </tr>\n",
       "    <tr>\n",
       "      <th id=\"T_d131a_level0_row15\" class=\"row_heading level0 row15\" >dt</th>\n",
       "      <td id=\"T_d131a_row15_col0\" class=\"data row15 col0\" >Decision Tree Regressor</td>\n",
       "      <td id=\"T_d131a_row15_col1\" class=\"data row15 col1\" >10.1393</td>\n",
       "      <td id=\"T_d131a_row15_col2\" class=\"data row15 col2\" >204.0431</td>\n",
       "      <td id=\"T_d131a_row15_col3\" class=\"data row15 col3\" >14.2631</td>\n",
       "      <td id=\"T_d131a_row15_col4\" class=\"data row15 col4\" >0.5517</td>\n",
       "      <td id=\"T_d131a_row15_col5\" class=\"data row15 col5\" >0.3201</td>\n",
       "      <td id=\"T_d131a_row15_col6\" class=\"data row15 col6\" >0.2737</td>\n",
       "      <td id=\"T_d131a_row15_col7\" class=\"data row15 col7\" >0.1090</td>\n",
       "    </tr>\n",
       "    <tr>\n",
       "      <th id=\"T_d131a_level0_row16\" class=\"row_heading level0 row16\" >ada</th>\n",
       "      <td id=\"T_d131a_row16_col0\" class=\"data row16 col0\" >AdaBoost Regressor</td>\n",
       "      <td id=\"T_d131a_row16_col1\" class=\"data row16 col1\" >11.7860</td>\n",
       "      <td id=\"T_d131a_row16_col2\" class=\"data row16 col2\" >215.3609</td>\n",
       "      <td id=\"T_d131a_row16_col3\" class=\"data row16 col3\" >14.6560</td>\n",
       "      <td id=\"T_d131a_row16_col4\" class=\"data row16 col4\" >0.5277</td>\n",
       "      <td id=\"T_d131a_row16_col5\" class=\"data row16 col5\" >0.3786</td>\n",
       "      <td id=\"T_d131a_row16_col6\" class=\"data row16 col6\" >0.3981</td>\n",
       "      <td id=\"T_d131a_row16_col7\" class=\"data row16 col7\" >0.1160</td>\n",
       "    </tr>\n",
       "    <tr>\n",
       "      <th id=\"T_d131a_level0_row17\" class=\"row_heading level0 row17\" >par</th>\n",
       "      <td id=\"T_d131a_row17_col0\" class=\"data row17 col0\" >Passive Aggressive Regressor</td>\n",
       "      <td id=\"T_d131a_row17_col1\" class=\"data row17 col1\" >12.1050</td>\n",
       "      <td id=\"T_d131a_row17_col2\" class=\"data row17 col2\" >220.0526</td>\n",
       "      <td id=\"T_d131a_row17_col3\" class=\"data row17 col3\" >14.7736</td>\n",
       "      <td id=\"T_d131a_row17_col4\" class=\"data row17 col4\" >0.5149</td>\n",
       "      <td id=\"T_d131a_row17_col5\" class=\"data row17 col5\" >0.3683</td>\n",
       "      <td id=\"T_d131a_row17_col6\" class=\"data row17 col6\" >0.3758</td>\n",
       "      <td id=\"T_d131a_row17_col7\" class=\"data row17 col7\" >0.1230</td>\n",
       "    </tr>\n",
       "    <tr>\n",
       "      <th id=\"T_d131a_level0_row18\" class=\"row_heading level0 row18\" >omp</th>\n",
       "      <td id=\"T_d131a_row18_col0\" class=\"data row18 col0\" >Orthogonal Matching Pursuit</td>\n",
       "      <td id=\"T_d131a_row18_col1\" class=\"data row18 col1\" >15.6712</td>\n",
       "      <td id=\"T_d131a_row18_col2\" class=\"data row18 col2\" >438.0015</td>\n",
       "      <td id=\"T_d131a_row18_col3\" class=\"data row18 col3\" >20.8964</td>\n",
       "      <td id=\"T_d131a_row18_col4\" class=\"data row18 col4\" >0.0440</td>\n",
       "      <td id=\"T_d131a_row18_col5\" class=\"data row18 col5\" >0.4623</td>\n",
       "      <td id=\"T_d131a_row18_col6\" class=\"data row18 col6\" >0.4650</td>\n",
       "      <td id=\"T_d131a_row18_col7\" class=\"data row18 col7\" >0.0230</td>\n",
       "    </tr>\n",
       "    <tr>\n",
       "      <th id=\"T_d131a_level0_row19\" class=\"row_heading level0 row19\" >dummy</th>\n",
       "      <td id=\"T_d131a_row19_col0\" class=\"data row19 col0\" >Dummy Regressor</td>\n",
       "      <td id=\"T_d131a_row19_col1\" class=\"data row19 col1\" >16.1794</td>\n",
       "      <td id=\"T_d131a_row19_col2\" class=\"data row19 col2\" >459.9823</td>\n",
       "      <td id=\"T_d131a_row19_col3\" class=\"data row19 col3\" >21.4115</td>\n",
       "      <td id=\"T_d131a_row19_col4\" class=\"data row19 col4\" >-0.0034</td>\n",
       "      <td id=\"T_d131a_row19_col5\" class=\"data row19 col5\" >0.4776</td>\n",
       "      <td id=\"T_d131a_row19_col6\" class=\"data row19 col6\" >0.4862</td>\n",
       "      <td id=\"T_d131a_row19_col7\" class=\"data row19 col7\" >0.0200</td>\n",
       "    </tr>\n",
       "  </tbody>\n",
       "</table>\n"
      ],
      "text/plain": [
       "<pandas.io.formats.style.Styler at 0x2535ac07dc0>"
      ]
     },
     "metadata": {},
     "output_type": "display_data"
    },
    {
     "data": {
      "text/html": [],
      "text/plain": [
       "<IPython.core.display.HTML object>"
      ]
     },
     "metadata": {},
     "output_type": "display_data"
    }
   ],
   "source": [
    "best = s.compare_models()"
   ]
  },
  {
   "cell_type": "markdown",
   "metadata": {},
   "source": [
    "## Save Comparision"
   ]
  },
  {
   "cell_type": "code",
   "execution_count": 17,
   "metadata": {},
   "outputs": [],
   "source": [
    "df = s.pull()\n",
    "if not os.path.exists(\"comparisions\"):\n",
    "    os.mkdir(\"comparisions\")\n",
    "df.to_csv(f\"comparisions/{pollutant}-models.csv\", index=False)"
   ]
  },
  {
   "cell_type": "markdown",
   "metadata": {},
   "source": [
    "## Get the best model"
   ]
  },
  {
   "cell_type": "code",
   "execution_count": 18,
   "metadata": {},
   "outputs": [
    {
     "name": "stdout",
     "output_type": "stream",
     "text": [
      "<catboost.core.CatBoostRegressor object at 0x000002535A3C0430>\n"
     ]
    },
    {
     "data": {
      "application/vnd.jupyter.widget-view+json": {
       "model_id": "6527a8647c204809bff72cb4bff9e6f9",
       "version_major": 2,
       "version_minor": 0
      },
      "text/plain": [
       "interactive(children=(ToggleButtons(description='Plot Type:', icons=('',), options=(('Pipeline Plot', 'pipelin…"
      ]
     },
     "metadata": {},
     "output_type": "display_data"
    }
   ],
   "source": [
    "print(best)\n",
    "s.evaluate_model(best)"
   ]
  },
  {
   "cell_type": "markdown",
   "metadata": {},
   "source": [
    "## Get Special Graphs"
   ]
  },
  {
   "cell_type": "code",
   "execution_count": 19,
   "metadata": {},
   "outputs": [],
   "source": [
    "# import seaborn as sns  # type: ignore\n",
    "# import matplotlib.pyplot as plt  # type: ignore\n",
    "\n",
    "# ax = s.plot_model(best, plot=\"residuals\", plot_kwargs={\"title\": f\"Residuals for {pollutant} Selected Model\"}, save=True)\n",
    "# s.plot_model(best, plot=\"error\", plot_kwargs={\"title\": f\"Prediction Error for {pollutant} Selected Model\"}, save=True)\n",
    "# s.plot_model(best, plot=\"cooks\", plot_kwargs={\"title\": f\"Cook's Distance for {pollutant} Selected Model\"}, save=True)\n",
    "# s.plot_model(best, plot=\"rfe\", plot_kwargs={\"title\": f\"RFECV for {pollutant} Selected Model\"}, save=True)\n",
    "# s.plot_model(best, plot=\"learning\", plot_kwargs={\"title\": f\"Learning Curve for {pollutant} Selected Model\"}, save=True)\n",
    "# s.plot_model(best, plot=\"vc\", plot_kwargs={\"title\": f\"Validation Curve for {pollutant} Selected Model\"}, save=True)\n",
    "# s.plot_model(best, plot=\"manifold\", plot_kwargs={\"title\": f\"t-SNE Manifold for {pollutant} Selected Model\"}, save=True)\n",
    "# s.plot_model(best, plot=\"feature\", plot_kwargs={\"title\": f\"Feature Importance for {pollutant} Selected Model\"}, save=True)"
   ]
  },
  {
   "cell_type": "markdown",
   "metadata": {},
   "source": [
    "## Make Predictions"
   ]
  },
  {
   "cell_type": "code",
   "execution_count": 20,
   "metadata": {},
   "outputs": [
    {
     "data": {
      "text/html": [
       "<style type=\"text/css\">\n",
       "</style>\n",
       "<table id=\"T_aa4da\">\n",
       "  <thead>\n",
       "    <tr>\n",
       "      <th class=\"blank level0\" >&nbsp;</th>\n",
       "      <th id=\"T_aa4da_level0_col0\" class=\"col_heading level0 col0\" >Model</th>\n",
       "      <th id=\"T_aa4da_level0_col1\" class=\"col_heading level0 col1\" >MAE</th>\n",
       "      <th id=\"T_aa4da_level0_col2\" class=\"col_heading level0 col2\" >MSE</th>\n",
       "      <th id=\"T_aa4da_level0_col3\" class=\"col_heading level0 col3\" >RMSE</th>\n",
       "      <th id=\"T_aa4da_level0_col4\" class=\"col_heading level0 col4\" >R2</th>\n",
       "      <th id=\"T_aa4da_level0_col5\" class=\"col_heading level0 col5\" >RMSLE</th>\n",
       "      <th id=\"T_aa4da_level0_col6\" class=\"col_heading level0 col6\" >MAPE</th>\n",
       "    </tr>\n",
       "  </thead>\n",
       "  <tbody>\n",
       "    <tr>\n",
       "      <th id=\"T_aa4da_level0_row0\" class=\"row_heading level0 row0\" >0</th>\n",
       "      <td id=\"T_aa4da_row0_col0\" class=\"data row0 col0\" >CatBoost Regressor</td>\n",
       "      <td id=\"T_aa4da_row0_col1\" class=\"data row0 col1\" >6.3403</td>\n",
       "      <td id=\"T_aa4da_row0_col2\" class=\"data row0 col2\" >81.7660</td>\n",
       "      <td id=\"T_aa4da_row0_col3\" class=\"data row0 col3\" >9.0425</td>\n",
       "      <td id=\"T_aa4da_row0_col4\" class=\"data row0 col4\" >0.8343</td>\n",
       "      <td id=\"T_aa4da_row0_col5\" class=\"data row0 col5\" >0.2219</td>\n",
       "      <td id=\"T_aa4da_row0_col6\" class=\"data row0 col6\" >0.2019</td>\n",
       "    </tr>\n",
       "  </tbody>\n",
       "</table>\n"
      ],
      "text/plain": [
       "<pandas.io.formats.style.Styler at 0x2535a0fa770>"
      ]
     },
     "metadata": {},
     "output_type": "display_data"
    }
   ],
   "source": [
    "predictions = s.predict_model(best, data=test_set)"
   ]
  },
  {
   "cell_type": "markdown",
   "metadata": {},
   "source": [
    "## Save Stats of Best Model"
   ]
  },
  {
   "cell_type": "code",
   "execution_count": 21,
   "metadata": {},
   "outputs": [],
   "source": [
    "df = s.pull()\n",
    "if not os.path.exists(\"errors\"):\n",
    "    os.mkdir(\"errors\")\n",
    "df.to_csv(f\"errors/{pollutant}-errors.csv\", index=False)"
   ]
  },
  {
   "cell_type": "markdown",
   "metadata": {},
   "source": [
    "## Save Predictions"
   ]
  },
  {
   "cell_type": "code",
   "execution_count": 22,
   "metadata": {},
   "outputs": [],
   "source": [
    "if not os.path.exists(\"predictions\"):\n",
    "    os.mkdir(\"predictions\")\n",
    "predictions.to_csv(f\"predictions/{pollutant}-predictions.csv\", index=False)"
   ]
  },
  {
   "cell_type": "markdown",
   "metadata": {},
   "source": [
    "## Save Model"
   ]
  },
  {
   "cell_type": "code",
   "execution_count": 23,
   "metadata": {},
   "outputs": [
    {
     "name": "stdout",
     "output_type": "stream",
     "text": [
      "Transformation Pipeline and Model Successfully Saved\n"
     ]
    },
    {
     "data": {
      "text/plain": [
       "(Pipeline(memory=Memory(location=None),\n",
       "          steps=[('numerical_imputer',\n",
       "                  TransformerWrapper(include=['PM2.5', 'HR', 'NO2', 'YEAR', 'WD',\n",
       "                                              'MONTH', 'CO', 'SEASON', 'O3',\n",
       "                                              'TEMP'],\n",
       "                                     transformer=SimpleImputer())),\n",
       "                 ('categorical_imputer',\n",
       "                  TransformerWrapper(include=[],\n",
       "                                     transformer=SimpleImputer(strategy='most_frequent'))),\n",
       "                 ('clean_column_names',\n",
       "                  TransformerWrapper(transformer=CleanColumnNames())),\n",
       "                 ('trained_model',\n",
       "                  <catboost.core.CatBoostRegressor object at 0x000002535A3C0430>)]),\n",
       " 'models/best_PM10.pkl')"
      ]
     },
     "execution_count": 23,
     "metadata": {},
     "output_type": "execute_result"
    }
   ],
   "source": [
    "if not os.path.exists(\"models\"):\n",
    "    os.mkdir(\"models\")\n",
    "s.save_model(best, f'models/best_{pollutant}')"
   ]
  },
  {
   "cell_type": "markdown",
   "metadata": {},
   "source": [
    "## Load Model"
   ]
  },
  {
   "cell_type": "code",
   "execution_count": 24,
   "metadata": {},
   "outputs": [
    {
     "name": "stdout",
     "output_type": "stream",
     "text": [
      "Transformation Pipeline and Model Successfully Loaded\n"
     ]
    },
    {
     "name": "stdout",
     "output_type": "stream",
     "text": [
      "Pipeline(memory=FastMemory(location=C:\\Users\\FRANCI~1\\AppData\\Local\\Temp\\joblib),\n",
      "         steps=[('numerical_imputer',\n",
      "                 TransformerWrapper(include=['PM2.5', 'HR', 'NO2', 'YEAR', 'WD',\n",
      "                                             'MONTH', 'CO', 'SEASON', 'O3',\n",
      "                                             'TEMP'],\n",
      "                                    transformer=SimpleImputer())),\n",
      "                ('categorical_imputer',\n",
      "                 TransformerWrapper(include=[],\n",
      "                                    transformer=SimpleImputer(strategy='most_frequent'))),\n",
      "                ('clean_column_names',\n",
      "                 TransformerWrapper(transformer=CleanColumnNames())),\n",
      "                ('trained_model',\n",
      "                 <catboost.core.CatBoostRegressor object at 0x000002535A32A770>)])\n"
     ]
    }
   ],
   "source": [
    "loaded_model = s.load_model(f'models/best_{pollutant}')\n",
    "print(loaded_model)"
   ]
  }
 ],
 "metadata": {
  "kernelspec": {
   "display_name": "Python 3",
   "language": "python",
   "name": "python3"
  },
  "language_info": {
   "codemirror_mode": {
    "name": "ipython",
    "version": 3
   },
   "file_extension": ".py",
   "mimetype": "text/x-python",
   "name": "python",
   "nbconvert_exporter": "python",
   "pygments_lexer": "ipython3",
   "version": "3.10.0"
  }
 },
 "nbformat": 4,
 "nbformat_minor": 2
}
